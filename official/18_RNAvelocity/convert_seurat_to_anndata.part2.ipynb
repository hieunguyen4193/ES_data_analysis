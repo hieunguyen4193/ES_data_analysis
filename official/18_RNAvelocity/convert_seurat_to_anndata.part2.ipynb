{
 "cells": [
  {
   "cell_type": "code",
   "execution_count": null,
   "metadata": {},
   "outputs": [],
   "source": []
  },
  {
   "cell_type": "code",
   "execution_count": null,
   "metadata": {},
   "outputs": [
    {
     "name": "stdout",
     "output_type": "stream",
     "text": [
      "/media/hieunguyen/CRC1382H/CRC1382/outdir/EStange_20240411_reduced_RNAcontam_0/18_output/from_03_output/seurat2anndata/remove_d4_LPS_SC5\n",
      "/media/hieunguyen/CRC1382H/CRC1382/outdir/EStange_20240411_reduced_RNAcontam_0/18_output/from_10_output/seurat2anndata/remove_d4_LPS_SC5/CC_differences/nCount_and_BCR_TCRgenes\n",
      "/media/hieunguyen/CRC1382H/CRC1382/outdir/EStange_20240411_reduced_RNAcontam_0/18_output/from_12_output/seurat2anndata/remove_d4_LPS_SC5/CC_differences/nCount_and_BCR_TCRgenes/B_cells\n",
      "/media/hieunguyen/CRC1382H/CRC1382/outdir/EStange_20240411_reduced_RNAcontam_0/18_output/from_12_output/seurat2anndata/remove_d4_LPS_SC5/CC_differences/nCount_and_BCR_TCRgenes/myeloid\n",
      "/media/hieunguyen/CRC1382H/CRC1382/outdir/EStange_20240411_reduced_RNAcontam_0/18_output/from_12_output/seurat2anndata/remove_d4_LPS_SC5/CC_differences/nCount_and_BCR_TCRgenes/T_cells\n",
      "/media/hieunguyen/CRC1382H/CRC1382/outdir/EStange_20240411_reduced_RNAcontam_0/18_output/from_12_output_remove_BCR_TCR/seurat2anndata/remove_d4_LPS_SC5/CC_differences/nCount_and_BCR_TCRgenes/B_cells\n",
      "/media/hieunguyen/CRC1382H/CRC1382/outdir/EStange_20240411_reduced_RNAcontam_0/18_output/from_12_output_remove_BCR_TCR/seurat2anndata/remove_d4_LPS_SC5/CC_differences/nCount_and_BCR_TCRgenes/myeloid\n",
      "/media/hieunguyen/CRC1382H/CRC1382/outdir/EStange_20240411_reduced_RNAcontam_0/18_output/from_12_output_remove_BCR_TCR/seurat2anndata/remove_d4_LPS_SC5/CC_differences/nCount_and_BCR_TCRgenes/T_cells\n",
      "/media/hieunguyen/CRC1382H/CRC1382/outdir/EStange_20240411_reduced_RNAcontam_0/18_output/from_17_output/seurat2anndata/remove_d4_LPS_SC5/CC_differences/nCount_and_BCR_TCRgenes/T_cells_v1\n"
     ]
    }
   ],
   "source": []
  },
  {
   "cell_type": "code",
   "execution_count": null,
   "metadata": {},
   "outputs": [
    {
     "name": "stdout",
     "output_type": "stream",
     "text": [
      "/media/hieunguyen/CRC1382H/CRC1382/outdir/EStange_20240411_reduced_RNAcontam_0/18_output/from_17_output/seurat2anndata/remove_d4_LPS_SC5/CC_differences/nCount_and_BCR_TCRgenes/T_cells_v1/counts_EStange_20240411_reduced_RNAcontam_0.mtx\n"
     ]
    }
   ],
   "source": []
  },
  {
   "cell_type": "code",
   "execution_count": 9,
   "metadata": {},
   "outputs": [
    {
     "data": {
      "text/plain": [
       "AnnData object with n_obs × n_vars = 27620 × 14864\n",
       "    obs: 'orig.ident', 'nCount_RNA', 'nFeature_RNA', 'name', 'stage', 'percent.mt', 'percent.ribo', 'nCount_ADT', 'nFeature_ADT', 'No.Exprs', 'log10GenesPerUMI', 'CTaa', 'nCount_decontX', 'nFeature_decontX', 'AmbientRNA', 'decontX_clusters', 'Doublet_classifications', 'percent.exclude', 'nCount_SCT', 'nFeature_SCT', 'S.Score', 'G2M.Score', 'Phase', 'old.ident', 'G1.Score', 'CC.Difference', 'SCT_snn_res.0.5', 'HTO_classification.global', 'HTO_classification', 'HTO.others_classification', 'HTO.others_classification.global', 'prediction2', 'cca.cluster.0.5', 'rpca.cluster.0.5', 'harmony.cluster.0.5', 'barcode', 'UMAP_1', 'UMAP_2'\n",
       "    obsm: 'X_pca', 'X_umap'"
      ]
     },
     "execution_count": 9,
     "metadata": {},
     "output_type": "execute_result"
    }
   ],
   "source": [
    "adata"
   ]
  }
 ],
 "metadata": {
  "kernelspec": {
   "display_name": "hieunguyen",
   "language": "python",
   "name": "python3"
  },
  "language_info": {
   "codemirror_mode": {
    "name": "ipython",
    "version": 3
   },
   "file_extension": ".py",
   "mimetype": "text/x-python",
   "name": "python",
   "nbconvert_exporter": "python",
   "pygments_lexer": "ipython3",
   "version": "3.10.4"
  }
 },
 "nbformat": 4,
 "nbformat_minor": 2
}
